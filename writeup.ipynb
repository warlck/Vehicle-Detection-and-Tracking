{
 "cells": [
  {
   "cell_type": "markdown",
   "metadata": {},
   "source": [
    "# Vehicle Detection Project\n",
    "\n",
    "**The goals / steps of this project are the following:**\n",
    "\n",
    "- Perform a Histogram of Oriented Gradients (HOG) feature extraction on a labeled training set of images and train a classifier Linear SVM classifier\n",
    "- Optionally, you can also apply a color transform and append binned color features, as well as histograms of color, to your HOG feature vector. Note: for those first two steps don't forget to normalize your features and randomize a selection for training and testing.\n",
    "- Implement a sliding-window technique and use your trained classifier to search for vehicles in images.\n",
    "- Run your pipeline on a video stream (start with the test_video.mp4 and later implement on full project_video.mp4) and create a heat map of recurring detections frame by frame to reject outliers and follow detected vehicles.\n",
    "- Estimate a bounding box for vehicles detected."
   ]
  },
  {
   "cell_type": "markdown",
   "metadata": {},
   "source": [
    "### Histogram of Oriented Gradients (HOG)\n",
    "\n",
    "The code for this step is provided in **solution.ipynb** IPython notebook in code cell titled \"HOG features extraction\". To get HOG features I used **skimage.hog()** method. Sample images together with their HOG fetures, extracted from `Grayscale` image, with `orientation=12`, `pixels_per_cell=(8,8)` and `cells_per_block = (2,2)`  shown below:\n",
    "\n",
    "![Sample HOG](output_images/sample_hog.png)\n",
    "\n",
    "For the training purposes I have chosen YCrCb color space with parameters described above. This parameters yielded lowest testing error with the Support Vector Machine classifier, also resulted in good detection of vehicles in images using **find_cars()** method as discussed later. Image of sample car with YCrCb components together with  HOG features extracted for each color channel is provided as follows:\n",
    "\n",
    "![YCrCb HOG](output_images/ycrcb_hog.png)"
   ]
  },
  {
   "cell_type": "markdown",
   "metadata": {},
   "source": [
    "## Training SVM\n",
    "\n"
   ]
  },
  {
   "cell_type": "code",
   "execution_count": null,
   "metadata": {
    "collapsed": true
   },
   "outputs": [],
   "source": []
  }
 ],
 "metadata": {
  "kernelspec": {
   "display_name": "Python [conda root]",
   "language": "python",
   "name": "conda-root-py"
  },
  "language_info": {
   "codemirror_mode": {
    "name": "ipython",
    "version": 3
   },
   "file_extension": ".py",
   "mimetype": "text/x-python",
   "name": "python",
   "nbconvert_exporter": "python",
   "pygments_lexer": "ipython3",
   "version": "3.5.2"
  }
 },
 "nbformat": 4,
 "nbformat_minor": 1
}
